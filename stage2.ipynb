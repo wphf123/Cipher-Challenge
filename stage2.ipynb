{
 "cells": [
  {
   "cell_type": "markdown",
   "metadata": {},
   "source": [
    "# Stage 2"
   ]
  },
  {
   "cell_type": "code",
   "execution_count": 1,
   "metadata": {},
   "outputs": [],
   "source": [
    "import string\n",
    "import numpy as np\n",
    "\n",
    "alphabet = string.ascii_uppercase"
   ]
  },
  {
   "cell_type": "code",
   "execution_count": 15,
   "metadata": {},
   "outputs": [],
   "source": [
    "cipherText = 'MHILY LZA ZBHL XBPZXBL MVYABUHL HWWPBZ JSHBKPBZ JHLJBZ KPJABT HYJHUBT LZA ULBAYVU'"
   ]
  },
  {
   "cell_type": "code",
   "execution_count": 16,
   "metadata": {},
   "outputs": [
    {
     "name": "stdout",
     "output_type": "stream",
     "text": [
      "NIJMZ MAB ACIM YCQAYCM NWZBCVIM IXXQCA KTICLQCA KIMKCA LQKBCU IZKIVCU MAB VMCBZWV\n",
      "OJKNA NBC BDJN ZDRBZDN OXACDWJN JYYRDB LUJDMRDB LJNLDB MRLCDV JALJWDV NBC WNDCAXW\n",
      "PKLOB OCD CEKO AESCAEO PYBDEXKO KZZSEC MVKENSEC MKOMEC NSMDEW KBMKXEW OCD XOEDBYX\n",
      "QLMPC PDE DFLP BFTDBFP QZCEFYLP LAATFD NWLFOTFD NLPNFD OTNEFX LCNLYFX PDE YPFECZY\n",
      "RMNQD QEF EGMQ CGUECGQ RADFGZMQ MBBUGE OXMGPUGE OMQOGE PUOFGY MDOMZGY QEF ZQGFDAZ\n",
      "SNORE RFG FHNR DHVFDHR SBEGHANR NCCVHF PYNHQVHF PNRPHF QVPGHZ NEPNAHZ RFG ARHGEBA\n",
      "TOPSF SGH GIOS EIWGEIS TCFHIBOS ODDWIG QZOIRWIG QOSQIG RWQHIA OFQOBIA SGH BSIHFCB\n",
      "UPQTG THI HJPT FJXHFJT UDGIJCPT PEEXJH RAPJSXJH RPTRJH SXRIJB PGRPCJB THI CTJIGDC\n",
      "VQRUH UIJ IKQU GKYIGKU VEHJKDQU QFFYKI SBQKTYKI SQUSKI TYSJKC QHSQDKC UIJ DUKJHED\n",
      "WRSVI VJK JLRV HLZJHLV WFIKLERV RGGZLJ TCRLUZLJ TRVTLJ UZTKLD RITRELD VJK EVLKIFE\n",
      "XSTWJ WKL KMSW IMAKIMW XGJLMFSW SHHAMK UDSMVAMK USWUMK VAULME SJUSFME WKL FWMLJGF\n",
      "YTUXK XLM LNTX JNBLJNX YHKMNGTX TIIBNL VETNWBNL VTXVNL WBVMNF TKVTGNF XLM GXNMKHG\n",
      "ZUVYL YMN MOUY KOCMKOY ZILNOHUY UJJCOM WFUOXCOM WUYWOM XCWNOG ULWUHOG YMN HYONLIH\n",
      "AVWZM ZNO NPVZ LPDNLPZ AJMOPIVZ VKKDPN XGVPYDPN XVZXPN YDXOPH VMXVIPH ZNO IZPOMJI\n",
      "BWXAN AOP OQWA MQEOMQA BKNPQJWA WLLEQO YHWQZEQO YWAYQO ZEYPQI WNYWJQI AOP JAQPNKJ\n",
      "CXYBO BPQ PRXB NRFPNRB CLOQRKXB XMMFRP ZIXRAFRP ZXBZRP AFZQRJ XOZXKRJ BPQ KBRQOLK\n",
      "DYZCP CQR QSYC OSGQOSC DMPRSLYC YNNGSQ AJYSBGSQ AYCASQ BGARSK YPAYLSK CQR LCSRPML\n",
      "EZADQ DRS RTZD PTHRPTD ENQSTMZD ZOOHTR BKZTCHTR BZDBTR CHBSTL ZQBZMTL DRS MDTSQNM\n",
      "FABER EST SUAE QUISQUE FORTUNAE APPIUS CLAUDIUS CAECUS DICTUM ARCANUM EST NEUTRON\n",
      "GBCFS FTU TVBF RVJTRVF GPSUVOBF BQQJVT DMBVEJVT DBFDVT EJDUVN BSDBOVN FTU OFVUSPO\n",
      "HCDGT GUV UWCG SWKUSWG HQTVWPCG CRRKWU ENCWFKWU ECGEWU FKEVWO CTECPWO GUV PGWVTQP\n",
      "IDEHU HVW VXDH TXLVTXH IRUWXQDH DSSLXV FODXGLXV FDHFXV GLFWXP DUFDQXP HVW QHXWURQ\n",
      "JEFIV IWX WYEI UYMWUYI JSVXYREI ETTMYW GPEYHMYW GEIGYW HMGXYQ EVGERYQ IWX RIYXVSR\n",
      "KFGJW JXY XZFJ VZNXVZJ KTWYZSFJ FUUNZX HQFZINZX HFJHZX INHYZR FWHFSZR JXY SJZYWTS\n",
      "LGHKX KYZ YAGK WAOYWAK LUXZATGK GVVOAY IRGAJOAY IGKIAY JOIZAS GXIGTAS KYZ TKAZXUT\n",
      "MHILY LZA ZBHL XBPZXBL MVYABUHL HWWPBZ JSHBKPBZ JHLJBZ KPJABT HYJHUBT LZA ULBAYVU\n"
     ]
    }
   ],
   "source": [
    "messages = []\n",
    "for i in range(1, 26 + 1):\n",
    "    atmpt = ''\n",
    "    for j in cipherText:\n",
    "        if j.isalpha():\n",
    "            newIndex = alphabet.index(j) + i\n",
    "            if newIndex > 25:\n",
    "                newIndex -= 26\n",
    "            atmpt += alphabet[newIndex]\n",
    "        else:\n",
    "            atmpt += j\n",
    "    messages.append(atmpt)\n",
    "    print(atmpt)"
   ]
  },
  {
   "cell_type": "markdown",
   "metadata": {},
   "source": [
    "#### Via manual inspection:"
   ]
  },
  {
   "cell_type": "code",
   "execution_count": 17,
   "metadata": {},
   "outputs": [
    {
     "data": {
      "text/plain": [
       "'FABER EST SUAE QUISQUE FORTUNAE APPIUS CLAUDIUS CAECUS DICTUM ARCANUM EST NEUTRON'"
      ]
     },
     "execution_count": 17,
     "metadata": {},
     "output_type": "execute_result"
    }
   ],
   "source": [
    "messages[18]"
   ]
  },
  {
   "cell_type": "markdown",
   "metadata": {},
   "source": [
    "#### Which translates to:"
   ]
  },
  {
   "cell_type": "markdown",
   "metadata": {},
   "source": [
    "\"We are the architects of our own fortunes,\" Appius Claudius Caecus said.  The secret is the neutron "
   ]
  }
 ],
 "metadata": {
  "kernelspec": {
   "display_name": "Python 3",
   "language": "python",
   "name": "python3"
  },
  "language_info": {
   "codemirror_mode": {
    "name": "ipython",
    "version": 3
   },
   "file_extension": ".py",
   "mimetype": "text/x-python",
   "name": "python",
   "nbconvert_exporter": "python",
   "pygments_lexer": "ipython3",
   "version": "3.7.3"
  }
 },
 "nbformat": 4,
 "nbformat_minor": 2
}
