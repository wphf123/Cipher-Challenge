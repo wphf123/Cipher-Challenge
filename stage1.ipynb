{
 "cells": [
  {
   "cell_type": "markdown",
   "metadata": {},
   "source": [
    "# Stage 1"
   ]
  },
  {
   "cell_type": "code",
   "execution_count": 72,
   "metadata": {},
   "outputs": [],
   "source": [
    "import string\n",
    "import numpy as np\n",
    "import matplotlib.pyplot as plt\n",
    "alphabet = string.ascii_uppercase"
   ]
  },
  {
   "cell_type": "code",
   "execution_count": 47,
   "metadata": {},
   "outputs": [],
   "source": [
    "cipherText = 'BT JPX RMLX PCUV AMLX ICVJP IBTWXVR CI M LMT’R PMTN, MTN YVCJX CDXV MWMBTRJ JPX AMTNGXRJBAH UQCT JPX QGMRJXV CI JPX YMGG CI JPX HBTW’R QMGMAX; MTN JPX HBTW RMY JPX QMVJ CI JPX PMTN JPMJ YVCJX. JPXT JPX HBTW’R ACUTJXTMTAX YMR APMTWXN, MTN PBR JPCUWPJR JVCUFGXN PBL, RC JPMJ JPX SCBTJR CI PBR GCBTR YXVX GCCRXN, MTN PBR HTXXR RLCJX CTX MWMBTRJ MTCJPXV. JPX HBTW AVBXN MGCUN JC FVBTW BT JPX MRJVCGCWXVR, JPX APMGNXMTR, MTN JPX RCCJPRMEXVR. MTN JPX HBTW RQMHX, MTN RMBN JC JPX YBRX LXT CI FMFEGCT, YPCRCXDXV RPMGG VXMN JPBR YVBJBTW, MTN RPCY LX JPX BTJXVQVXJMJBCT JPXVXCI, RPMGG FX AGCJPXN YBJP RAM'"
   ]
  },
  {
   "cell_type": "code",
   "execution_count": 48,
   "metadata": {},
   "outputs": [],
   "source": [
    "words = cipherText.split(' ')"
   ]
  },
  {
   "cell_type": "code",
   "execution_count": 49,
   "metadata": {},
   "outputs": [],
   "source": [
    "frequencies = list(np.zeros(len(alphabet)))\n",
    "for i in cipherText:\n",
    "    if i in alphabet:\n",
    "        frequencies[alphabet.index(i)] += 1"
   ]
  },
  {
   "cell_type": "code",
   "execution_count": 50,
   "metadata": {},
   "outputs": [
    {
     "name": "stdout",
     "output_type": "stream",
     "text": [
      "[11.0, 27.0, 37.0, 2.0, 2.0, 5.0, 17.0, 8.0, 9.0, 49.0, 0.0, 7.0, 44.0, 20.0, 0.0, 42.0, 6.0, 36.0, 1.0, 40.0, 6.0, 22.0, 13.0, 56.0, 11.0, 0.0]\n"
     ]
    }
   ],
   "source": [
    "print(frequencies)"
   ]
  },
  {
   "cell_type": "code",
   "execution_count": 45,
   "metadata": {},
   "outputs": [
    {
     "name": "stdout",
     "output_type": "stream",
     "text": [
      "M\n"
     ]
    }
   ],
   "source": [
    "for i in words:\n",
    "    if len(i) == 1:\n",
    "        print(i)"
   ]
  },
  {
   "cell_type": "markdown",
   "metadata": {},
   "source": [
    "So M is either I or A"
   ]
  },
  {
   "cell_type": "code",
   "execution_count": 76,
   "metadata": {},
   "outputs": [
    {
     "data": {
      "text/plain": [
       "'X'"
      ]
     },
     "execution_count": 76,
     "metadata": {},
     "output_type": "execute_result"
    }
   ],
   "source": [
    "alphabet[frequencies.index(56)]"
   ]
  },
  {
   "cell_type": "code",
   "execution_count": 80,
   "metadata": {},
   "outputs": [
    {
     "name": "stdout",
     "output_type": "stream",
     "text": [
      "BN THE TALE HUUV AALE IUVTH IBNWEVT UI A LAN’T HAND, AND YVUTE UDEV AWABNTT THE AANDGETTBAH UQUN THE QGATTEV UI THE YAGG UI THE HBNW’T QAGAAE; AND THE HBNW TAY THE QAVT UI THE HAND THAT YVUTE. THEN THE HBNW’T AUUNTENANAE YAT AHANWED, AND HBT THUUWHTT TVUUFGED HBL, TU THAT THE QUBNTT UI HBT GUBNT YEVE GUUTED, AND HBT HNEET TLUTE UNE AWABNTT ANUTHEV. THE HBNW AVBED AGUUD TU FVBNW BN THE ATTVUGUWEVT, THE AHAGDEANT, AND THE TUUTHTAEEVT. AND THE HBNW TQAHE, AND TABD TU THE YBTE LEN UI FAFEGUN, YHUTUEDEV THAGG VEAD THBT YVBTBNW, AND THUY LE THE BNTEVQVETATBUN THEVEUI, THAGG FE AGUTHED YBTH TAA\n"
     ]
    }
   ],
   "source": [
    "decodeTable = {\n",
    "    'R': 'T',\n",
    "    'M': 'A',\n",
    "    'S': 'Q',\n",
    "    'C': 'U',\n",
    "    'X': 'E',\n",
    "    'J': 'T',\n",
    "    'P': 'H',\n",
    "    'T': 'N',\n",
    "    'N': 'D'\n",
    "}\n",
    "plainText = ''\n",
    "for i in cipherText:\n",
    "    if i in decodeTable:\n",
    "        plainText += decodeTable[i]\n",
    "    else:\n",
    "        plainText += i\n",
    "print(plainText)"
   ]
  },
  {
   "cell_type": "markdown",
   "metadata": {},
   "source": [
    "### Looking for Q and U patterns"
   ]
  },
  {
   "cell_type": "code",
   "execution_count": 57,
   "metadata": {},
   "outputs": [
    {
     "name": "stdout",
     "output_type": "stream",
     "text": [
      "A : ['M', 'H', 'X', 'C', 'P', 'V', 'G']\n",
      "B : ['T', 'A', 'R', 'L', 'X', 'N', 'J', 'C']\n",
      "C : ['U', 'V', 'I', 'J', 'D', 'T', ' ', 'B', 'C', 'R', 'G', 'W', 'X', 'Y']\n",
      "D : ['X']\n",
      "E : ['X', 'G']\n",
      "F : ['G', 'V', 'M', 'E', 'X']\n",
      "G : ['X', 'M', 'G', ' ', 'C', 'N']\n",
      "H : [' ', 'B', 'T', 'X']\n",
      "I : ['C', 'B', ' ', ',']\n",
      "J : ['P', 'X', ' ', 'B', 'R', 'V', 'C', 'M']\n",
      "K : []\n",
      "L : ['X', 'M', ',', 'C']\n",
      "M : ['L', ' ', 'T', 'W', 'B', 'R', 'G', 'A', 'Y', 'V', 'J', 'E', 'H', 'F', 'N']\n",
      "N : [',', ' ', 'G', 'X']\n",
      "O : []\n",
      "P : ['X', 'C', ' ', 'M', 'B', 'J', 'R']\n",
      "Q : ['C', 'G', 'M', 'V']\n",
      "R : ['M', ' ', 'J', 'C', 'X', 'L', ',', '.', 'Q', 'P', 'A']\n",
      "S : ['C']\n",
      "T : [' ', 'W', '’', 'N', 'R', 'J', 'M', 'A', 'X', 'C', ',']\n",
      "U : ['V', 'Q', 'T', 'W', 'F', 'N']\n",
      "V : [' ', 'J', 'R', 'C', 'X', '.', 'B', 'Q']\n",
      "W : ['X', 'M', '’', ' ', 'P', ',']\n",
      "X : [' ', 'V', 'R', ';', '.', 'T', 'N', 'X', 'M', ',', 'D', 'J', 'C']\n",
      "Y : ['V', 'M', ' ', 'X', 'B', 'P']\n",
      "Z : []\n"
     ]
    }
   ],
   "source": [
    "for i in alphabet:\n",
    "    followers = []\n",
    "    for j in range(len(cipherText) - 1):\n",
    "        if cipherText[j] == i and cipherText[j+1] not in followers:\n",
    "            followers.append(cipherText[j+1])\n",
    "    print(f'{i} : {followers}')"
   ]
  },
  {
   "cell_type": "code",
   "execution_count": 62,
   "metadata": {},
   "outputs": [
    {
     "data": {
      "text/plain": [
       "0.0"
      ]
     },
     "execution_count": 62,
     "metadata": {},
     "output_type": "execute_result"
    }
   ],
   "source": [
    "frequencies[alphabet.index('Z')]"
   ]
  }
 ],
 "metadata": {
  "kernelspec": {
   "display_name": "Python 3",
   "language": "python",
   "name": "python3"
  },
  "language_info": {
   "codemirror_mode": {
    "name": "ipython",
    "version": 3
   },
   "file_extension": ".py",
   "mimetype": "text/x-python",
   "name": "python",
   "nbconvert_exporter": "python",
   "pygments_lexer": "ipython3",
   "version": "3.7.3"
  }
 },
 "nbformat": 4,
 "nbformat_minor": 2
}
